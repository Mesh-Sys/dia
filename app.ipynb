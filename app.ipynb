{
 "cells": [
  {
   "cell_type": "code",
   "execution_count": null,
   "id": "95076ebb-bf83-442f-832d-27afe192145d",
   "metadata": {},
   "outputs": [],
   "source": [
    "!git clone --single-branch --branch colab https://github.com/Mesh-Sys/dia.git\n",
    "%cd dia"
   ]
  },
  {
   "cell_type": "code",
   "execution_count": null,
   "id": "fb392756-1c3a-4d05-9569-36c06b3d73ac",
   "metadata": {},
   "outputs": [],
   "source": [
    "!pip install -r requirements.txt"
   ]
  },
  {
   "cell_type": "code",
   "execution_count": null,
   "id": "4683e3ee-17dc-4b1c-af51-a17d1872dab3",
   "metadata": {},
   "outputs": [],
   "source": [
    "!python app.py"
   ]
  }
 ],
 "metadata": {
  "kernelspec": {
   "display_name": "Python 3 (ipykernel)",
   "language": "python",
   "name": "python3"
  },
  "language_info": {
   "codemirror_mode": {
    "name": "ipython",
    "version": 3
   },
   "file_extension": ".py",
   "mimetype": "text/x-python",
   "name": "python",
   "nbconvert_exporter": "python",
   "pygments_lexer": "ipython3",
   "version": "3.12.2"
  }
 },
 "nbformat": 4,
 "nbformat_minor": 5
}
